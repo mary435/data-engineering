{
 "cells": [
  {
   "cell_type": "code",
   "execution_count": 1,
   "id": "717ecaee",
   "metadata": {},
   "outputs": [
    {
     "name": "stderr",
     "output_type": "stream",
     "text": [
      "23/03/08 18:29:48 WARN Utils: Your hostname, MacBook-Air-de-Lucas.local resolves to a loopback address: 127.0.0.1; using 192.168.1.108 instead (on interface en0)\n",
      "23/03/08 18:29:48 WARN Utils: Set SPARK_LOCAL_IP if you need to bind to another address\n",
      "WARNING: An illegal reflective access operation has occurred\n",
      "WARNING: Illegal reflective access by org.apache.spark.unsafe.Platform (file:/Users/lukas17e/opt/anaconda3/lib/python3.9/site-packages/pyspark/jars/spark-unsafe_2.12-3.2.1.jar) to constructor java.nio.DirectByteBuffer(long,int)\n",
      "WARNING: Please consider reporting this to the maintainers of org.apache.spark.unsafe.Platform\n",
      "WARNING: Use --illegal-access=warn to enable warnings of further illegal reflective access operations\n",
      "WARNING: All illegal access operations will be denied in a future release\n",
      "Using Spark's default log4j profile: org/apache/spark/log4j-defaults.properties\n",
      "Setting default log level to \"WARN\".\n",
      "To adjust logging level use sc.setLogLevel(newLevel). For SparkR, use setLogLevel(newLevel).\n",
      "23/03/08 18:29:49 WARN NativeCodeLoader: Unable to load native-hadoop library for your platform... using builtin-java classes where applicable\n",
      "23/03/08 18:29:51 WARN Utils: Service 'SparkUI' could not bind on port 4040. Attempting port 4041.\n",
      "23/03/08 18:29:51 WARN Utils: Service 'SparkUI' could not bind on port 4041. Attempting port 4042.\n"
     ]
    }
   ],
   "source": [
    "import pyspark\n",
    "from pyspark.sql import SparkSession\n",
    "\n",
    "spark = SparkSession.builder \\\n",
    "    .master(\"local[*]\") \\\n",
    "    .appName('test') \\\n",
    "    .getOrCreate()"
   ]
  },
  {
   "cell_type": "code",
   "execution_count": 2,
   "id": "803796c8",
   "metadata": {},
   "outputs": [
    {
     "name": "stderr",
     "output_type": "stream",
     "text": [
      "                                                                                \r"
     ]
    }
   ],
   "source": [
    "df_green = spark.read.parquet('data/pq/green/*/*')"
   ]
  },
  {
   "cell_type": "code",
   "execution_count": 3,
   "id": "8a83ebce",
   "metadata": {},
   "outputs": [
    {
     "name": "stderr",
     "output_type": "stream",
     "text": [
      "/Users/lukas17e/opt/anaconda3/lib/python3.9/site-packages/pyspark/sql/dataframe.py:138: FutureWarning: Deprecated in 2.0, use createOrReplaceTempView instead.\n",
      "  warnings.warn(\n"
     ]
    }
   ],
   "source": [
    "df_green.registerTempTable('green')"
   ]
  },
  {
   "cell_type": "code",
   "execution_count": 4,
   "id": "11526916",
   "metadata": {},
   "outputs": [],
   "source": [
    "df_green_revenue = spark.sql(\"\"\"\n",
    "SELECT \n",
    "    date_trunc('hour', lpep_pickup_datetime) AS hour, \n",
    "    PULocationID AS zone,\n",
    "\n",
    "    SUM(total_amount) AS amount,\n",
    "    COUNT(1) AS number_records\n",
    "FROM\n",
    "    green\n",
    "WHERE\n",
    "    lpep_pickup_datetime >= '2020-01-01 00:00:00'\n",
    "GROUP BY\n",
    "    1, 2\n",
    "\"\"\")"
   ]
  },
  {
   "cell_type": "code",
   "execution_count": 5,
   "id": "5e36ec2d",
   "metadata": {},
   "outputs": [
    {
     "name": "stderr",
     "output_type": "stream",
     "text": [
      "\r",
      "[Stage 1:>                                                          (0 + 1) / 1]\r"
     ]
    },
    {
     "name": "stdout",
     "output_type": "stream",
     "text": [
      "+--------+--------------------+---------------------+------------------+----------+------------+------------+---------------+-------------+-----------+-----+-------+----------+------------+---------+---------------------+------------+------------+---------+--------------------+\n",
      "|VendorID|lpep_pickup_datetime|lpep_dropoff_datetime|store_and_fwd_flag|RatecodeID|PULocationID|DOLocationID|passenger_count|trip_distance|fare_amount|extra|mta_tax|tip_amount|tolls_amount|ehail_fee|improvement_surcharge|total_amount|payment_type|trip_type|congestion_surcharge|\n",
      "+--------+--------------------+---------------------+------------------+----------+------------+------------+---------------+-------------+-----------+-----+-------+----------+------------+---------+---------------------+------------+------------+---------+--------------------+\n",
      "|       2| 2020-01-08 15:01:13|  2020-01-08 15:12:35|                 N|         1|          97|          61|              1|         2.18|       10.0|  0.0|    0.5|       2.7|         0.0|     null|                  0.3|        13.5|           1|        1|                 0.0|\n",
      "|    null| 2020-01-27 16:04:00|  2020-01-27 16:43:00|              null|      null|         231|          62|           null|         6.38|      26.16| 2.75|    0.0|       0.0|         0.0|     null|                  0.3|       29.21|        null|     null|                null|\n",
      "|    null| 2020-01-11 11:03:00|  2020-01-11 11:29:00|              null|      null|         222|          36|           null|         3.95|      17.68|  0.0|    0.5|       0.0|         0.0|     null|                  0.3|       18.48|        null|     null|                null|\n",
      "|    null| 2020-01-26 12:13:00|  2020-01-26 12:16:00|              null|      null|         174|         174|           null|         0.39|      11.13|  5.5|    0.0|       0.0|         0.0|     null|                  0.3|       16.93|        null|     null|                null|\n",
      "|       2| 2020-01-22 03:48:21|  2020-01-22 03:53:42|                 N|         1|         260|          83|              1|         0.98|        5.5|  0.5|    0.5|       0.0|         0.0|     null|                  0.3|         6.8|           2|        1|                 0.0|\n",
      "|    null| 2020-01-02 11:09:00|  2020-01-02 11:49:00|              null|      null|          75|         203|           null|        19.09|       48.5| 2.75|    0.0|       0.0|        6.12|     null|                  0.3|       57.67|        null|     null|                null|\n",
      "|       2| 2020-01-09 09:06:23|  2020-01-09 09:12:18|                 N|         5|           7|         193|              1|         1.08|        9.0|  0.0|    0.0|       1.0|         0.0|     null|                  0.3|       12.25|           1|        1|                 0.0|\n",
      "|       2| 2020-01-03 10:45:17|  2020-01-03 11:02:58|                 N|         1|          43|         142|              1|         2.85|       14.0|  0.0|    0.5|      3.51|         0.0|     null|                  0.3|       21.06|           1|        1|                2.75|\n",
      "|       2| 2020-01-04 15:18:15|  2020-01-04 15:29:41|                 N|         1|          74|         168|              1|         2.34|       10.5|  0.0|    0.5|       0.0|         0.0|     null|                  0.3|        11.3|           2|        1|                 0.0|\n",
      "|       2| 2020-01-25 17:09:50|  2020-01-25 17:38:22|                 N|         1|         244|         161|              1|         8.25|       28.5|  0.0|    0.5|      6.41|         0.0|     null|                  0.3|       38.46|           1|        1|                2.75|\n",
      "|       2| 2020-01-24 18:37:58|  2020-01-24 18:47:11|                 N|         1|          75|         238|              2|         1.33|        7.5|  1.0|    0.5|      1.45|         0.0|     null|                  0.3|        13.5|           1|        1|                2.75|\n",
      "|       2| 2020-01-18 18:21:38|  2020-01-18 18:32:12|                 N|         1|          74|         236|              1|         2.22|        9.5|  0.0|    0.5|       2.0|         0.0|     null|                  0.3|       15.05|           1|        1|                2.75|\n",
      "|    null| 2020-01-09 11:39:00|  2020-01-09 12:12:00|              null|      null|         210|          35|           null|          8.6|      24.26|  0.0|    0.5|       0.0|         0.0|     null|                  0.3|       25.06|        null|     null|                null|\n",
      "|       2| 2020-01-06 10:10:49|  2020-01-06 10:34:34|                 N|         1|         130|          19|              1|         7.21|       24.5|  0.0|    0.5|       0.0|         0.0|     null|                  0.3|        25.3|           1|        1|                 0.0|\n",
      "|       1| 2020-01-05 12:22:38|  2020-01-05 12:36:48|                 N|         1|          66|         255|              1|          3.6|       13.0|  0.0|    0.5|       0.0|         0.0|     null|                  0.3|        13.8|           2|        1|                 0.0|\n",
      "|       2| 2020-01-01 14:52:37|  2020-01-01 15:09:30|                 N|         1|          66|          13|              1|         3.67|       15.5|  0.0|    0.5|       0.0|         0.0|     null|                  0.3|       19.05|           2|        1|                2.75|\n",
      "|       2| 2020-01-07 21:59:01|  2020-01-07 22:10:21|                 N|         1|          74|         238|              1|         2.99|       11.5|  0.5|    0.5|      3.11|         0.0|     null|                  0.3|       18.66|           1|        1|                2.75|\n",
      "|       1| 2020-01-13 16:10:23|  2020-01-13 16:28:03|                 N|         1|          75|          75|              1|          2.8|       13.5|  1.0|    0.5|       0.0|         0.0|     null|                  0.3|        15.3|           3|        1|                 0.0|\n",
      "|    null| 2020-01-03 17:24:00|  2020-01-03 18:01:00|              null|      null|         165|         180|           null|        -7.58|      33.59|  0.0|    0.5|       0.0|         0.0|     null|                  0.3|       34.39|        null|     null|                null|\n",
      "|       2| 2020-01-18 14:28:50|  2020-01-18 14:34:11|                 N|         1|         193|         193|              1|         0.82|        5.5|  0.0|    0.5|       0.0|         0.0|     null|                  0.3|         6.3|           2|        1|                 0.0|\n",
      "+--------+--------------------+---------------------+------------------+----------+------------+------------+---------------+-------------+-----------+-----+-------+----------+------------+---------+---------------------+------------+------------+---------+--------------------+\n",
      "only showing top 20 rows\n",
      "\n"
     ]
    },
    {
     "name": "stderr",
     "output_type": "stream",
     "text": [
      "\r",
      "                                                                                \r"
     ]
    }
   ],
   "source": [
    "df_green.show()"
   ]
  },
  {
   "cell_type": "code",
   "execution_count": 8,
   "id": "9498553e",
   "metadata": {},
   "outputs": [
    {
     "name": "stderr",
     "output_type": "stream",
     "text": [
      "                                                                                \r"
     ]
    }
   ],
   "source": [
    "df_green_revenue \\\n",
    "    .repartition(20) \\\n",
    "    .write.parquet('data/report/revenue/green', mode='overwrite')"
   ]
  },
  {
   "cell_type": "code",
   "execution_count": 6,
   "id": "32a353e9",
   "metadata": {},
   "outputs": [],
   "source": [
    "df_yellow = spark.read.parquet('data/pq/yellow/*/*')\n",
    "df_yellow.registerTempTable('yellow')"
   ]
  },
  {
   "cell_type": "code",
   "execution_count": 7,
   "id": "0dde99d8",
   "metadata": {},
   "outputs": [],
   "source": [
    "df_yellow_revenue = spark.sql(\"\"\"\n",
    "SELECT \n",
    "    date_trunc('hour', tpep_pickup_datetime) AS hour, \n",
    "    PULocationID AS zone,\n",
    "\n",
    "    SUM(total_amount) AS amount,\n",
    "    COUNT(1) AS number_records\n",
    "FROM\n",
    "    yellow\n",
    "WHERE\n",
    "    tpep_pickup_datetime >= '2020-01-01 00:00:00'\n",
    "GROUP BY\n",
    "    1, 2\n",
    "\"\"\")"
   ]
  },
  {
   "cell_type": "code",
   "execution_count": 9,
   "id": "76f46258",
   "metadata": {},
   "outputs": [
    {
     "name": "stderr",
     "output_type": "stream",
     "text": [
      "                                                                                \r"
     ]
    }
   ],
   "source": [
    "df_yellow_revenue \\\n",
    "    .repartition(20) \\\n",
    "    .write.parquet('data/report/revenue/yellow', mode='overwrite')"
   ]
  },
  {
   "cell_type": "code",
   "execution_count": null,
   "id": "a233cb37",
   "metadata": {},
   "outputs": [],
   "source": [
    "df_green_revenue = spark.read.parquet('data/report/revenue/green')\n",
    "df_yellow_revenue = spark.read.parquet('data/report/revenue/yellow')"
   ]
  },
  {
   "cell_type": "code",
   "execution_count": 10,
   "id": "629737d0",
   "metadata": {},
   "outputs": [],
   "source": [
    "df_green_revenue_tmp = df_green_revenue \\\n",
    "    .withColumnRenamed('amount', 'green_amount') \\\n",
    "    .withColumnRenamed('number_records', 'green_number_records')\n",
    "\n",
    "df_yellow_revenue_tmp = df_yellow_revenue \\\n",
    "    .withColumnRenamed('amount', 'yellow_amount') \\\n",
    "    .withColumnRenamed('number_records', 'yellow_number_records')"
   ]
  },
  {
   "cell_type": "code",
   "execution_count": 11,
   "id": "1fe9cdd1",
   "metadata": {},
   "outputs": [],
   "source": [
    "df_join = df_green_revenue_tmp.join(df_yellow_revenue_tmp, on=['hour', 'zone'], how='outer')"
   ]
  },
  {
   "cell_type": "code",
   "execution_count": 12,
   "id": "9cf1400a",
   "metadata": {},
   "outputs": [
    {
     "name": "stderr",
     "output_type": "stream",
     "text": [
      "[Stage 19:>                                                         (0 + 1) / 1]\r"
     ]
    },
    {
     "name": "stdout",
     "output_type": "stream",
     "text": [
      "+-------------------+----+------------------+--------------------+------------------+---------------------+\n",
      "|               hour|zone|      green_amount|green_number_records|     yellow_amount|yellow_number_records|\n",
      "+-------------------+----+------------------+--------------------+------------------+---------------------+\n",
      "|2020-01-01 00:00:00|  10|              null|                null|             42.41|                    2|\n",
      "|2020-01-01 00:00:00|  12|              null|                null|             107.0|                    6|\n",
      "|2020-01-01 00:00:00|  15|              null|                null|             34.09|                    1|\n",
      "|2020-01-01 00:00:00|  24|              87.6|                   3| 754.9500000000002|                   45|\n",
      "|2020-01-01 00:00:00|  32| 68.94999999999999|                   2|              18.0|                    1|\n",
      "|2020-01-01 00:00:00|  34|              null|                null|              19.3|                    1|\n",
      "|2020-01-01 00:00:00|  40|            168.98|                   8|             89.97|                    5|\n",
      "|2020-01-01 00:00:00|  42| 799.7599999999998|                  52| 635.3500000000003|                   46|\n",
      "|2020-01-01 00:00:00|  51|              17.8|                   2|              31.0|                    1|\n",
      "|2020-01-01 00:00:00|  55|129.29000000000002|                   4|              null|                 null|\n",
      "|2020-01-01 00:00:00|  61|            526.71|                  17|            146.64|                    3|\n",
      "|2020-01-01 00:00:00|  66|386.75000000000006|                  18|            260.55|                   10|\n",
      "|2020-01-01 00:00:00|  69|              11.8|                   1|            106.52|                    4|\n",
      "|2020-01-01 00:00:00|  77| 75.99000000000001|                   2|            134.24|                    3|\n",
      "|2020-01-01 00:00:00|  80|364.32000000000005|                  13|371.40000000000003|                   20|\n",
      "|2020-01-01 00:00:00|  87|              null|                null|2456.6699999999987|                  112|\n",
      "|2020-01-01 00:00:00|  89|              11.3|                   1|             48.16|                    2|\n",
      "|2020-01-01 00:00:00|  95|202.20000000000005|                  15|               6.3|                    1|\n",
      "|2020-01-01 00:00:00| 113|              null|                null| 3984.319999999998|                  220|\n",
      "|2020-01-01 00:00:00| 114|              null|                null| 6256.430000000008|                  333|\n",
      "+-------------------+----+------------------+--------------------+------------------+---------------------+\n",
      "only showing top 20 rows\n",
      "\n"
     ]
    },
    {
     "name": "stderr",
     "output_type": "stream",
     "text": [
      "\r",
      "                                                                                \r"
     ]
    }
   ],
   "source": [
    "df_join.show()"
   ]
  },
  {
   "cell_type": "code",
   "execution_count": 14,
   "id": "50f4faa4",
   "metadata": {},
   "outputs": [
    {
     "name": "stderr",
     "output_type": "stream",
     "text": [
      "                                                                                \r"
     ]
    }
   ],
   "source": [
    "df_join.write.parquet('data/report/revenue/total', mode='overwrite')"
   ]
  },
  {
   "cell_type": "code",
   "execution_count": 15,
   "id": "049e02c6",
   "metadata": {},
   "outputs": [],
   "source": [
    "df_join = spark.read.parquet('data/report/revenue/total')"
   ]
  },
  {
   "cell_type": "code",
   "execution_count": null,
   "id": "0b6d09e1",
   "metadata": {},
   "outputs": [],
   "source": [
    "df_join"
   ]
  },
  {
   "cell_type": "code",
   "execution_count": null,
   "id": "efeb745d",
   "metadata": {},
   "outputs": [],
   "source": [
    "df_zones = spark.read.parquet('zones/')"
   ]
  },
  {
   "cell_type": "code",
   "execution_count": null,
   "id": "d26c4280",
   "metadata": {},
   "outputs": [],
   "source": [
    "df_result = df_join.join(df_zones, df_join.zone == df_zones.LocationID)"
   ]
  },
  {
   "cell_type": "code",
   "execution_count": null,
   "id": "1f272d79",
   "metadata": {},
   "outputs": [],
   "source": [
    "df_result.drop('LocationID', 'zone').write.parquet('tmp/revenue-zones')"
   ]
  },
  {
   "cell_type": "code",
   "execution_count": null,
   "id": "15ec3063",
   "metadata": {},
   "outputs": [],
   "source": []
  }
 ],
 "metadata": {
  "kernelspec": {
   "display_name": "Python 3 (ipykernel)",
   "language": "python",
   "name": "python3"
  },
  "language_info": {
   "codemirror_mode": {
    "name": "ipython",
    "version": 3
   },
   "file_extension": ".py",
   "mimetype": "text/x-python",
   "name": "python",
   "nbconvert_exporter": "python",
   "pygments_lexer": "ipython3",
   "version": "3.9.13"
  }
 },
 "nbformat": 4,
 "nbformat_minor": 5
}
